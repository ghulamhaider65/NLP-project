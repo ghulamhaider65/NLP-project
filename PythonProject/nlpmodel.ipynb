{
 "cells": [
  {
   "cell_type": "code",
   "id": "initial_id",
   "metadata": {
    "collapsed": true,
    "ExecuteTime": {
     "end_time": "2025-02-13T14:24:49.807451Z",
     "start_time": "2025-02-13T14:24:49.755655Z"
    }
   },
   "source": [
    "text = \"\"\"\n",
    "Climate change refers to significant changes in global temperatures and weather patterns over time. While climate change is a natural phenomenon, scientific evidence shows that human activities have been the primary driver of rapid climate change since the 20th century.\n",
    "\n",
    "One of the most significant contributors to climate change is the increase in greenhouse gas emissions, such as carbon dioxide, methane, and nitrous oxide. These gases trap heat in the Earth's atmosphere, leading to a rise in global temperatures, a phenomenon commonly known as global warming.\n",
    "\n",
    "The impacts of climate change are far-reaching and diverse. Rising temperatures have led to the melting of polar ice caps and glaciers, contributing to sea-level rise. This, in turn, poses a threat to coastal communities, leading to increased flooding and erosion. Additionally, changing weather patterns have resulted in more frequent and severe extreme weather events, such as hurricanes, droughts, and wildfires.\n",
    "\n",
    "Climate change also affects ecosystems and biodiversity. Many species are struggling to adapt to the rapidly changing conditions, leading to shifts in habitats and migration patterns. Some species face the risk of extinction as their natural habitats become uninhabitable.\n",
    "\n",
    "In response to these challenges, countries around the world are taking steps to mitigate climate change and adapt to its impacts. The Paris Agreement, adopted in 2015, aims to limit global warming to well below 2 degrees Celsius above pre-industrial levels, with efforts to limit the temperature increase to 1.5 degrees Celsius. This requires significant reductions in greenhouse gas emissions, achieved through a transition to renewable energy sources, improved energy efficiency, and reforestation efforts.\n",
    "\n",
    "Public awareness and activism have also played a crucial role in addressing climate change. Movements like Fridays for Future, led by young climate activists, have brought global attention to the urgency of the climate crisis and the need for immediate action. Governments, businesses, and individuals are increasingly recognizing the importance of sustainable practices and the need to reduce carbon footprints.\n",
    "\n",
    "Despite the progress being made, there is still much work to be done. The effects of climate change are already being felt, and urgent action is needed to prevent the worst outcomes. By working together and implementing sustainable solutions, we can protect our planet for future generations and ensure a healthier, more resilient world.\n",
    "\n",
    "\"\"\""
   ],
   "outputs": [],
   "execution_count": 18
  },
  {
   "metadata": {
    "ExecuteTime": {
     "end_time": "2025-02-13T14:24:53.106758Z",
     "start_time": "2025-02-13T14:24:53.079872Z"
    }
   },
   "cell_type": "code",
   "source": [
    "def lower_text(text):\n",
    "  for i in text:\n",
    "    text = text.lower()\n",
    "\n",
    "  return text\n",
    "\n",
    "text = lower_text(text)"
   ],
   "id": "d86fbfe9130641d0",
   "outputs": [],
   "execution_count": 19
  },
  {
   "metadata": {
    "ExecuteTime": {
     "end_time": "2025-02-13T14:24:57.151590Z",
     "start_time": "2025-02-13T14:24:57.141114Z"
    }
   },
   "cell_type": "code",
   "source": [
    "def removeTags(text):\n",
    "  tags=['\\n\\n','\\n', '\\'']\n",
    "  for i in tags:\n",
    "    if i in text:\n",
    "      text = text.replace(i, '')\n",
    "  return text\n",
    "\n",
    "text = removeTags(text)"
   ],
   "id": "abd07ed2c69b38e9",
   "outputs": [],
   "execution_count": 20
  },
  {
   "metadata": {
    "ExecuteTime": {
     "end_time": "2025-02-13T14:24:59.020735Z",
     "start_time": "2025-02-13T14:24:58.999278Z"
    }
   },
   "cell_type": "code",
   "source": [
    "import string\n",
    "def removePunct(text):\n",
    "  for i in text:\n",
    "    if i in string.punctuation:\n",
    "      text = text.replace(i, '')\n",
    "  return text\n",
    "\n",
    "text = removePunct(text)"
   ],
   "id": "d329b8e2c3f2a30c",
   "outputs": [],
   "execution_count": 21
  },
  {
   "metadata": {
    "ExecuteTime": {
     "end_time": "2025-02-13T14:25:02.853879Z",
     "start_time": "2025-02-13T14:25:02.414750Z"
    }
   },
   "cell_type": "code",
   "source": [
    "import nltk\n",
    "from nltk.corpus import stopwords\n",
    "nltk.download('stopwords')\n",
    "nltk.download('punkt')\n",
    "nltk.download('punkt_tab')"
   ],
   "id": "434d0ce81c7e3892",
   "outputs": [
    {
     "name": "stderr",
     "output_type": "stream",
     "text": [
      "[nltk_data] Downloading package stopwords to\n",
      "[nltk_data]     C:\\Users\\ghula\\AppData\\Roaming\\nltk_data...\n",
      "[nltk_data]   Package stopwords is already up-to-date!\n",
      "[nltk_data] Downloading package punkt to\n",
      "[nltk_data]     C:\\Users\\ghula\\AppData\\Roaming\\nltk_data...\n",
      "[nltk_data]   Package punkt is already up-to-date!\n",
      "[nltk_data] Downloading package punkt_tab to\n",
      "[nltk_data]     C:\\Users\\ghula\\AppData\\Roaming\\nltk_data...\n",
      "[nltk_data]   Package punkt_tab is already up-to-date!\n"
     ]
    },
    {
     "data": {
      "text/plain": [
       "True"
      ]
     },
     "execution_count": 22,
     "metadata": {},
     "output_type": "execute_result"
    }
   ],
   "execution_count": 22
  },
  {
   "metadata": {
    "ExecuteTime": {
     "end_time": "2025-02-13T14:25:06.983848Z",
     "start_time": "2025-02-13T14:25:06.956289Z"
    }
   },
   "cell_type": "code",
   "source": [
    "from nltk.tokenize import word_tokenize\n",
    "from nltk.corpus import stopwords\n",
    "\n",
    "def removeStopwords(text):\n",
    "    tokens = word_tokenize(text)\n",
    "    stop_words = set(stopwords.words('english'))\n",
    "    words = [word for word in tokens if word.lower() not in stop_words]\n",
    "\n",
    "    return words\n",
    "\n",
    "text=removeStopwords(text)"
   ],
   "id": "f7772089551ad69",
   "outputs": [],
   "execution_count": 23
  },
  {
   "metadata": {
    "ExecuteTime": {
     "end_time": "2025-02-13T14:25:11.493499Z",
     "start_time": "2025-02-13T14:25:11.477862Z"
    }
   },
   "cell_type": "code",
   "source": "ptext=[text]",
   "id": "861b596dead16fd5",
   "outputs": [],
   "execution_count": 24
  },
  {
   "metadata": {
    "ExecuteTime": {
     "end_time": "2025-02-13T14:25:14.411734Z",
     "start_time": "2025-02-13T14:25:14.387723Z"
    }
   },
   "cell_type": "code",
   "source": [
    "import gensim\n",
    "from gensim import corpora\n",
    "dictionary = corpora.Dictionary(ptext)"
   ],
   "id": "a35eb9589e2b0b85",
   "outputs": [],
   "execution_count": 25
  },
  {
   "metadata": {
    "ExecuteTime": {
     "end_time": "2025-02-13T14:25:19.228587Z",
     "start_time": "2025-02-13T14:25:19.219351Z"
    }
   },
   "cell_type": "code",
   "source": [
    "print(\"Dictionary before filtering:\", dictionary)\n",
    "print(\"Number of unique tokens before filtering:\", len(dictionary))"
   ],
   "id": "af3305704e60ad08",
   "outputs": [
    {
     "name": "stdout",
     "output_type": "stream",
     "text": [
      "Dictionary before filtering: Dictionary<179 unique tokens: ['15', '2', '2015', '20th', 'achieved']...>\n",
      "Number of unique tokens before filtering: 179\n"
     ]
    }
   ],
   "execution_count": 26
  },
  {
   "metadata": {
    "ExecuteTime": {
     "end_time": "2025-02-13T14:25:26.939045Z",
     "start_time": "2025-02-13T14:25:26.931339Z"
    }
   },
   "cell_type": "code",
   "source": "corpus = [dictionary.doc2bow(doc) for doc in ptext]",
   "id": "525962d8bb743471",
   "outputs": [],
   "execution_count": 27
  },
  {
   "metadata": {
    "ExecuteTime": {
     "end_time": "2025-02-13T14:25:30.007985Z",
     "start_time": "2025-02-13T14:25:29.940243Z"
    }
   },
   "cell_type": "code",
   "source": "lda_model = gensim.models.LdaModel(corpus, num_topics=2, id2word=dictionary, passes=10)",
   "id": "ac998790e8aba7f8",
   "outputs": [],
   "execution_count": 28
  },
  {
   "metadata": {
    "ExecuteTime": {
     "end_time": "2025-02-13T14:25:32.002736Z",
     "start_time": "2025-02-13T14:25:31.991534Z"
    }
   },
   "cell_type": "code",
   "source": [
    "topics = lda_model.print_topics(num_words=4)\n",
    "topics"
   ],
   "id": "ed125aacdcd21432",
   "outputs": [
    {
     "data": {
      "text/plain": [
       "[(0,\n",
       "  '0.032*\"climate\" + 0.029*\"change\" + 0.017*\"global\" + 0.011*\"temperatures\"'),\n",
       " (1,\n",
       "  '0.006*\"climate\" + 0.006*\"change\" + 0.006*\"global\" + 0.006*\"significant\"')]"
      ]
     },
     "execution_count": 29,
     "metadata": {},
     "output_type": "execute_result"
    }
   ],
   "execution_count": 29
  },
  {
   "metadata": {
    "ExecuteTime": {
     "end_time": "2025-02-13T14:25:36.882785Z",
     "start_time": "2025-02-13T14:25:36.870937Z"
    }
   },
   "cell_type": "code",
   "source": [
    "res=topics[0][1]\n",
    "res=res.split('+')\n",
    "list1=[]\n",
    "for i in res:\n",
    "    list1.append(i.split('*'))\n",
    "\n",
    "dict1={}\n",
    "for i in list1:\n",
    "    dict1[i[1]]=i[0]\n",
    "\n",
    "dict1"
   ],
   "id": "a0a0edef53d073fe",
   "outputs": [
    {
     "data": {
      "text/plain": [
       "{'\"climate\" ': '0.032',\n",
       " '\"change\" ': ' 0.029',\n",
       " '\"global\" ': ' 0.017',\n",
       " '\"temperatures\"': ' 0.011'}"
      ]
     },
     "execution_count": 30,
     "metadata": {},
     "output_type": "execute_result"
    }
   ],
   "execution_count": 30
  },
  {
   "metadata": {
    "ExecuteTime": {
     "end_time": "2025-02-13T14:25:42.692731Z",
     "start_time": "2025-02-13T14:25:42.678593Z"
    }
   },
   "cell_type": "code",
   "source": [
    "all_topic_dicts = []\n",
    "for topic in topics:\n",
    "    topic_str = topic[1]\n",
    "    res = topic_str.split('+')\n",
    "    list1 = []\n",
    "    for i in res:\n",
    "        list1.append(i.split('*'))\n",
    "\n",
    "    dict1 = {}\n",
    "    for i in list1:\n",
    "        dict1[i[1].strip().strip('\"')] = float(i[0])\n",
    "\n",
    "    all_topic_dicts.append(dict1)\n",
    "\n",
    "all_topic_dicts"
   ],
   "id": "a125534e1a4783a4",
   "outputs": [
    {
     "data": {
      "text/plain": [
       "[{'climate': 0.032, 'change': 0.029, 'global': 0.017, 'temperatures': 0.011},\n",
       " {'climate': 0.006, 'change': 0.006, 'global': 0.006, 'significant': 0.006}]"
      ]
     },
     "execution_count": 31,
     "metadata": {},
     "output_type": "execute_result"
    }
   ],
   "execution_count": 31
  },
  {
   "metadata": {
    "ExecuteTime": {
     "end_time": "2025-02-13T14:25:45.761054Z",
     "start_time": "2025-02-13T14:25:45.742468Z"
    }
   },
   "cell_type": "code",
   "source": [
    "import pandas as pd\n",
    "\n",
    "df1 = pd.DataFrame(list(all_topic_dicts[0].items()), columns=['Word', 'Weight'])\n",
    "df2 = pd.DataFrame(list(all_topic_dicts[1].items()), columns=['Word', 'Weight'])"
   ],
   "id": "e36b51dfbe15330f",
   "outputs": [],
   "execution_count": 32
  },
  {
   "metadata": {
    "ExecuteTime": {
     "end_time": "2025-02-13T14:25:48.443999Z",
     "start_time": "2025-02-13T14:25:48.415896Z"
    }
   },
   "cell_type": "code",
   "source": [
    "print('Topic 1:')\n",
    "df1"
   ],
   "id": "91e2c6bc7edb9765",
   "outputs": [
    {
     "name": "stdout",
     "output_type": "stream",
     "text": [
      "Topic 1:\n"
     ]
    },
    {
     "data": {
      "text/plain": [
       "           Word  Weight\n",
       "0       climate   0.032\n",
       "1        change   0.029\n",
       "2        global   0.017\n",
       "3  temperatures   0.011"
      ],
      "text/html": [
       "<div>\n",
       "<style scoped>\n",
       "    .dataframe tbody tr th:only-of-type {\n",
       "        vertical-align: middle;\n",
       "    }\n",
       "\n",
       "    .dataframe tbody tr th {\n",
       "        vertical-align: top;\n",
       "    }\n",
       "\n",
       "    .dataframe thead th {\n",
       "        text-align: right;\n",
       "    }\n",
       "</style>\n",
       "<table border=\"1\" class=\"dataframe\">\n",
       "  <thead>\n",
       "    <tr style=\"text-align: right;\">\n",
       "      <th></th>\n",
       "      <th>Word</th>\n",
       "      <th>Weight</th>\n",
       "    </tr>\n",
       "  </thead>\n",
       "  <tbody>\n",
       "    <tr>\n",
       "      <th>0</th>\n",
       "      <td>climate</td>\n",
       "      <td>0.032</td>\n",
       "    </tr>\n",
       "    <tr>\n",
       "      <th>1</th>\n",
       "      <td>change</td>\n",
       "      <td>0.029</td>\n",
       "    </tr>\n",
       "    <tr>\n",
       "      <th>2</th>\n",
       "      <td>global</td>\n",
       "      <td>0.017</td>\n",
       "    </tr>\n",
       "    <tr>\n",
       "      <th>3</th>\n",
       "      <td>temperatures</td>\n",
       "      <td>0.011</td>\n",
       "    </tr>\n",
       "  </tbody>\n",
       "</table>\n",
       "</div>"
      ]
     },
     "execution_count": 33,
     "metadata": {},
     "output_type": "execute_result"
    }
   ],
   "execution_count": 33
  },
  {
   "metadata": {
    "ExecuteTime": {
     "end_time": "2025-02-13T14:25:50.849191Z",
     "start_time": "2025-02-13T14:25:50.829950Z"
    }
   },
   "cell_type": "code",
   "source": [
    "print('Topic 2:')\n",
    "df2"
   ],
   "id": "3f29bf7fd5d74bff",
   "outputs": [
    {
     "name": "stdout",
     "output_type": "stream",
     "text": [
      "Topic 2:\n"
     ]
    },
    {
     "data": {
      "text/plain": [
       "          Word  Weight\n",
       "0      climate   0.006\n",
       "1       change   0.006\n",
       "2       global   0.006\n",
       "3  significant   0.006"
      ],
      "text/html": [
       "<div>\n",
       "<style scoped>\n",
       "    .dataframe tbody tr th:only-of-type {\n",
       "        vertical-align: middle;\n",
       "    }\n",
       "\n",
       "    .dataframe tbody tr th {\n",
       "        vertical-align: top;\n",
       "    }\n",
       "\n",
       "    .dataframe thead th {\n",
       "        text-align: right;\n",
       "    }\n",
       "</style>\n",
       "<table border=\"1\" class=\"dataframe\">\n",
       "  <thead>\n",
       "    <tr style=\"text-align: right;\">\n",
       "      <th></th>\n",
       "      <th>Word</th>\n",
       "      <th>Weight</th>\n",
       "    </tr>\n",
       "  </thead>\n",
       "  <tbody>\n",
       "    <tr>\n",
       "      <th>0</th>\n",
       "      <td>climate</td>\n",
       "      <td>0.006</td>\n",
       "    </tr>\n",
       "    <tr>\n",
       "      <th>1</th>\n",
       "      <td>change</td>\n",
       "      <td>0.006</td>\n",
       "    </tr>\n",
       "    <tr>\n",
       "      <th>2</th>\n",
       "      <td>global</td>\n",
       "      <td>0.006</td>\n",
       "    </tr>\n",
       "    <tr>\n",
       "      <th>3</th>\n",
       "      <td>significant</td>\n",
       "      <td>0.006</td>\n",
       "    </tr>\n",
       "  </tbody>\n",
       "</table>\n",
       "</div>"
      ]
     },
     "execution_count": 34,
     "metadata": {},
     "output_type": "execute_result"
    }
   ],
   "execution_count": 34
  },
  {
   "metadata": {},
   "cell_type": "code",
   "outputs": [],
   "execution_count": null,
   "source": "",
   "id": "4fd2dba18c058420"
  }
 ],
 "metadata": {
  "kernelspec": {
   "display_name": "Python 3",
   "language": "python",
   "name": "python3"
  },
  "language_info": {
   "codemirror_mode": {
    "name": "ipython",
    "version": 2
   },
   "file_extension": ".py",
   "mimetype": "text/x-python",
   "name": "python",
   "nbconvert_exporter": "python",
   "pygments_lexer": "ipython2",
   "version": "2.7.6"
  }
 },
 "nbformat": 4,
 "nbformat_minor": 5
}
